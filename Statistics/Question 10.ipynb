{
 "cells": [
  {
   "cell_type": "markdown",
   "id": "da1994af",
   "metadata": {},
   "source": [
    "## Question 10"
   ]
  },
  {
   "cell_type": "code",
   "execution_count": null,
   "id": "0ba70b2c",
   "metadata": {},
   "outputs": [],
   "source": []
  },
  {
   "cell_type": "code",
   "execution_count": null,
   "id": "a6260ac1",
   "metadata": {},
   "outputs": [],
   "source": [
    " \n",
    "a. What is the probability that exactly 20 bulbs are defective?\n",
    "\n",
    "The probability that exactly 20 bulbs are defective is given by the binomial distribution. The binomial distribution is a probability distribution that gives the probability of getting k successes in n trials, where each trial has a probability of success of p.\n",
    "\n",
    "In this case, the number of trials is n = 500, the probability of success is p = 0.05, and the number of successes is k = 20.\n",
    "\n",
    "The probability that exactly 20 bulbs are defective is:\n",
    "\n",
    "P(X = 20) = (500 * 0.05 * 0.95) / 2 ^ 500\n",
    "≈ 0.00066\n",
    "\n",
    "\n",
    " "
   ]
  },
  {
   "cell_type": "code",
   "execution_count": null,
   "id": "01f23d50",
   "metadata": {},
   "outputs": [],
   "source": [
    "b. What is the probability that at least 10 bulbs are defective?\n",
    "\n",
    "The probability that at least 10 bulbs are defective is given by the complement of the probability that at most 9 bulbs are defective.\n",
    "\n",
    "The probability that at most 9 bulbs are defective is given by the binomial distribution. The probability that at most 9 bulbs are defective is:\n",
    "\n",
    "P(X <= 9) = (500 * 0.05 ^ 9 * 0.95 ^ 410) / 2 ^ 500\n",
    "≈ 0.99993\n",
    "\n",
    "The probability that at least 10 bulbs are defective is:\n",
    "\n",
    "1 - P(X <= 9)\n",
    "≈ 0.00007"
   ]
  },
  {
   "cell_type": "code",
   "execution_count": null,
   "id": "bcd84765",
   "metadata": {},
   "outputs": [],
   "source": []
  },
  {
   "cell_type": "code",
   "execution_count": null,
   "id": "5f8efa21",
   "metadata": {},
   "outputs": [],
   "source": [
    "c. What is the probability that at max 15 bulbs are defective?\n",
    "\n",
    "The probability that at max 15 bulbs are defective is given by the binomial distribution. The probability that at max 15 bulbs are defective is:\n",
    "\n",
    "P(X <= 15) = (500 * 0.05 ^ 15 * 0.95 ^ 385) / 2 ^ 500\n",
    "≈ 0.99875"
   ]
  },
  {
   "cell_type": "code",
   "execution_count": 4,
   "id": "4c7707cd",
   "metadata": {},
   "outputs": [],
   "source": [
    " "
   ]
  },
  {
   "cell_type": "code",
   "execution_count": null,
   "id": "0f3d5ded",
   "metadata": {},
   "outputs": [],
   "source": [
    " "
   ]
  },
  {
   "cell_type": "code",
   "execution_count": null,
   "id": "550ef722",
   "metadata": {},
   "outputs": [],
   "source": [
    " d. On average, how many defective bulbs would you expect in a batch of 500?\n",
    "\n",
    "The expected number of defective bulbs in a batch of 500 is given by the product of the number of bulbs and the probability of a bulb being defective.\n",
    "\n",
    "The expected number of defective bulbs is:\n",
    "\n",
    "n * p = 500 * 0.05 = 25\n",
    "Therefore, we expect 25 defective bulbs in a batch of 500."
   ]
  },
  {
   "cell_type": "code",
   "execution_count": null,
   "id": "d1439fb7",
   "metadata": {},
   "outputs": [],
   "source": []
  },
  {
   "cell_type": "code",
   "execution_count": null,
   "id": "610c1487",
   "metadata": {},
   "outputs": [],
   "source": [
    " "
   ]
  },
  {
   "cell_type": "code",
   "execution_count": null,
   "id": "e5c7a9ff",
   "metadata": {},
   "outputs": [],
   "source": [
    " "
   ]
  },
  {
   "cell_type": "code",
   "execution_count": null,
   "id": "fed4c916",
   "metadata": {},
   "outputs": [],
   "source": [
    " "
   ]
  },
  {
   "cell_type": "code",
   "execution_count": null,
   "id": "e619c9d4",
   "metadata": {},
   "outputs": [],
   "source": [
    " "
   ]
  },
  {
   "cell_type": "code",
   "execution_count": null,
   "id": "e359a7f8",
   "metadata": {},
   "outputs": [],
   "source": []
  },
  {
   "cell_type": "code",
   "execution_count": null,
   "id": "8021b463",
   "metadata": {},
   "outputs": [],
   "source": []
  },
  {
   "cell_type": "code",
   "execution_count": null,
   "id": "992ea867",
   "metadata": {},
   "outputs": [],
   "source": []
  },
  {
   "cell_type": "code",
   "execution_count": null,
   "id": "d4109db1",
   "metadata": {},
   "outputs": [],
   "source": []
  },
  {
   "cell_type": "code",
   "execution_count": null,
   "id": "9661ca08",
   "metadata": {},
   "outputs": [],
   "source": []
  },
  {
   "cell_type": "code",
   "execution_count": null,
   "id": "43782ab0",
   "metadata": {},
   "outputs": [],
   "source": []
  },
  {
   "cell_type": "code",
   "execution_count": null,
   "id": "42f4373b",
   "metadata": {},
   "outputs": [],
   "source": []
  },
  {
   "cell_type": "code",
   "execution_count": null,
   "id": "d519ff72",
   "metadata": {},
   "outputs": [],
   "source": []
  },
  {
   "cell_type": "code",
   "execution_count": null,
   "id": "80566377",
   "metadata": {},
   "outputs": [],
   "source": []
  },
  {
   "cell_type": "code",
   "execution_count": null,
   "id": "a284c75e",
   "metadata": {},
   "outputs": [],
   "source": []
  },
  {
   "cell_type": "code",
   "execution_count": null,
   "id": "d3a57541",
   "metadata": {},
   "outputs": [],
   "source": []
  },
  {
   "cell_type": "code",
   "execution_count": null,
   "id": "d939f7bd",
   "metadata": {},
   "outputs": [],
   "source": []
  },
  {
   "cell_type": "code",
   "execution_count": null,
   "id": "c64de6be",
   "metadata": {},
   "outputs": [],
   "source": []
  },
  {
   "cell_type": "code",
   "execution_count": null,
   "id": "0328070d",
   "metadata": {},
   "outputs": [],
   "source": []
  },
  {
   "cell_type": "code",
   "execution_count": null,
   "id": "fcce0f98",
   "metadata": {},
   "outputs": [],
   "source": []
  },
  {
   "cell_type": "code",
   "execution_count": null,
   "id": "f323e88e",
   "metadata": {},
   "outputs": [],
   "source": []
  },
  {
   "cell_type": "code",
   "execution_count": null,
   "id": "736abbae",
   "metadata": {},
   "outputs": [],
   "source": []
  },
  {
   "cell_type": "code",
   "execution_count": null,
   "id": "7cfa5cd4",
   "metadata": {},
   "outputs": [],
   "source": []
  },
  {
   "cell_type": "code",
   "execution_count": null,
   "id": "ca7a9677",
   "metadata": {},
   "outputs": [],
   "source": []
  },
  {
   "cell_type": "code",
   "execution_count": null,
   "id": "8f65c55c",
   "metadata": {},
   "outputs": [],
   "source": []
  },
  {
   "cell_type": "code",
   "execution_count": null,
   "id": "871e3c00",
   "metadata": {},
   "outputs": [],
   "source": []
  }
 ],
 "metadata": {
  "kernelspec": {
   "display_name": "Python 3 (ipykernel)",
   "language": "python",
   "name": "python3"
  },
  "language_info": {
   "codemirror_mode": {
    "name": "ipython",
    "version": 3
   },
   "file_extension": ".py",
   "mimetype": "text/x-python",
   "name": "python",
   "nbconvert_exporter": "python",
   "pygments_lexer": "ipython3",
   "version": "3.10.9"
  }
 },
 "nbformat": 4,
 "nbformat_minor": 5
}
