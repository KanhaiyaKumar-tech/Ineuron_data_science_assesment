{
 "cells": [
  {
   "cell_type": "markdown",
   "id": "fd339c81",
   "metadata": {},
   "source": [
    "## Question 8"
   ]
  },
  {
   "cell_type": "code",
   "execution_count": null,
   "id": "60e61aa3",
   "metadata": {},
   "outputs": [],
   "source": []
  },
  {
   "cell_type": "code",
   "execution_count": null,
   "id": "1c9c694d",
   "metadata": {},
   "outputs": [],
   "source": []
  },
  {
   "cell_type": "code",
   "execution_count": null,
   "id": "51424fa8",
   "metadata": {},
   "outputs": [],
   "source": [
    "The Wilcoxon signed-rank statistic is the sum of the positive signed ranks. In this case, the Wilcoxon signed-rank statistic is 12.\n",
    "\n",
    "The critical value for the Wilcoxon signed-rank test depends on the sample size and the significance level. In this case, the sample size is 10, and the significance level is 0.05. The critical value is 4.\n",
    "\n",
    "Since the Wilcoxon signed-rank statistic is greater than the critical value, we can reject the null hypothesis and conclude that there is a significant difference between the before and after therapy scores.\n",
    "\n",
    "In other words, the therapy had a significant effect on anxiety levels.\n",
    "\n",
    "The following code can be used to perform the Wilcoxon signed-rank test:"
   ]
  },
  {
   "cell_type": "code",
   "execution_count": null,
   "id": "e33ced2a",
   "metadata": {},
   "outputs": [],
   "source": []
  },
  {
   "cell_type": "code",
   "execution_count": null,
   "id": "d0ed2b70",
   "metadata": {},
   "outputs": [],
   "source": [
    "Calculate the sum of the ranks for the positive differences and the sum of the ranks for the negative differences.\n",
    "Sum of ranks for positive differences = 0 (since there are no positive differences in this case)\n",
    "Sum of ranks for negative differences = 4.5 + 4.5 + 6.5 + 6.5 + 6.5 + 8 = 36.5\n",
    "\n",
    "Calculate the test statistic (T) using the formula:\n",
    "T = min(Sum of ranks for positive differences, Sum of ranks for negative differences)\n",
    "In this case, T = min(0, 36.5) = 0"
   ]
  },
  {
   "cell_type": "code",
   "execution_count": null,
   "id": "c09cb486",
   "metadata": {},
   "outputs": [],
   "source": []
  },
  {
   "cell_type": "code",
   "execution_count": null,
   "id": "7cfb298d",
   "metadata": {},
   "outputs": [],
   "source": []
  },
  {
   "cell_type": "code",
   "execution_count": null,
   "id": "9c54381e",
   "metadata": {},
   "outputs": [],
   "source": []
  },
  {
   "cell_type": "code",
   "execution_count": 6,
   "id": "68df6573",
   "metadata": {},
   "outputs": [
    {
     "name": "stdout",
     "output_type": "stream",
     "text": [
      "The therapy had a significant effect on anxiety levels.\n"
     ]
    }
   ],
   "source": [
    "import numpy as np\n",
    "from scipy.stats import wilcoxon\n",
    "\n",
    "data = np.array([\n",
    "    (-3, 3),\n",
    "    (-2, 2),\n",
    "    (-2, 2),\n",
    "    (-3, 3),\n",
    "    (-1, 1),\n",
    "    (-1, 1),\n",
    "    (-2, 2),\n",
    "    (-1, 1),\n",
    "    (-2, 2),\n",
    "    (-2, 2)\n",
    "])\n",
    "\n",
    "statistic, pvalue = wilcoxon(data, zero_method=\"pratt\")\n",
    "\n",
    "if pvalue.all() < 0.05:\n",
    "  print(\"The therapy did not have a significant effect on anxiety levels.\")\n",
    "else:\n",
    "  print(\"The therapy had a significant effect on anxiety levels.\")"
   ]
  },
  {
   "cell_type": "code",
   "execution_count": null,
   "id": "93dfa357",
   "metadata": {},
   "outputs": [],
   "source": []
  },
  {
   "cell_type": "code",
   "execution_count": null,
   "id": "0f35213b",
   "metadata": {},
   "outputs": [],
   "source": []
  },
  {
   "cell_type": "code",
   "execution_count": null,
   "id": "6bb9dab6",
   "metadata": {},
   "outputs": [],
   "source": []
  },
  {
   "cell_type": "code",
   "execution_count": null,
   "id": "3d998de9",
   "metadata": {},
   "outputs": [],
   "source": []
  }
 ],
 "metadata": {
  "kernelspec": {
   "display_name": "Python 3 (ipykernel)",
   "language": "python",
   "name": "python3"
  },
  "language_info": {
   "codemirror_mode": {
    "name": "ipython",
    "version": 3
   },
   "file_extension": ".py",
   "mimetype": "text/x-python",
   "name": "python",
   "nbconvert_exporter": "python",
   "pygments_lexer": "ipython3",
   "version": "3.10.9"
  }
 },
 "nbformat": 4,
 "nbformat_minor": 5
}
