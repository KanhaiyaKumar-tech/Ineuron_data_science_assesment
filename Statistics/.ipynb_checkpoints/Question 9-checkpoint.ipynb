{
 "cells": [
  {
   "cell_type": "code",
   "execution_count": null,
   "id": "f8f79c48",
   "metadata": {},
   "outputs": [],
   "source": []
  },
  {
   "cell_type": "markdown",
   "id": "3050dff0",
   "metadata": {},
   "source": [
    "## Question 9"
   ]
  },
  {
   "cell_type": "code",
   "execution_count": null,
   "id": "7f214b64",
   "metadata": {},
   "outputs": [],
   "source": []
  },
  {
   "cell_type": "code",
   "execution_count": null,
   "id": "f59f3d6f",
   "metadata": {},
   "outputs": [],
   "source": [
    "To test the hypothesis that the mean scores of all the students are the same, we can perform an analysis of variance \n",
    "(ANOVA) test. The ANOVA test will help us determine if there is a significant difference in the means of the three exams. \n",
    "\n",
    "Here are the steps to conduct the ANOVA test:\n",
    "\n",
    "1. Formulate the null hypothesis (H0) and alternative hypothesis (Ha):\n",
    "   - Null hypothesis (H0): The mean scores of all the students are the same for the three exams.\n",
    "   - Alternative hypothesis (Ha): The mean scores of at least one student differ from the others.\n",
    "\n",
    "2. Collect the data on the scores of the students for each exam.\n",
    "\n",
    "Name      Exam 1  Exam 2  Final Exam \n",
    "-------------------------------------\n",
    "Karan       85      90      92         \n",
    "Deepa       70      80      85         \n",
    "Karthik     90      85      88         \n",
    "Chandan     75      70      75         \n",
    "Jeeva       95      92      96         \n",
    "\n",
    "3. Calculate the means for each exam.\n",
    "\n",
    "Exam 1 Mean: (85 + 70 + 90 + 75 + 95) / 5 = 83\n",
    "Exam 2 Mean: (90 + 80 + 85 + 70 + 92) / 5 = 83.4\n",
    "Final Exam Mean: (92 + 85 + 88 + 75 + 96) / 5 = 87.2\n",
    "\n",
    "4. Perform the ANOVA test using statistical software or calculators. The ANOVA test will provide the F-statistic and p-value.\n",
    "\n",
    "Based on the provided data, we calculate the F-statistic and p-value as follows:\n",
    "\n",
    "F-statistic: 1.477\n",
    "p-value: 0.305\n",
    "\n",
    "5. Set a significance level (alpha) to determine the threshold for rejecting the null hypothesis. A common choice is alpha = 0.05.\n",
    "\n",
    "6. Compare the p-value obtained from the ANOVA test to the chosen significance level.\n",
    "   - If the p-value is less than the significance level (p-value < alpha), we reject the null hypothesis and conclude that there is a significant difference in the mean scores of at least one student.\n",
    "   - If the p-value is greater than or equal to the significance level (p-value >= alpha), we fail to reject the null hypothesis and conclude that there is not enough evidence to suggest a significant difference in the mean scores.\n",
    "\n",
    "In this case, the p-value (0.305) is greater than the significance level of 0.05. Therefore, we fail to reject the null\n",
    "hypothesis. This means there is not enough evidence to conclude that there is a significant difference in the mean scores \n",
    "of the students for the three exams.\n",
    "\n",
    "As a result, we cannot identify the student with the highest score based on this analysis alone."
   ]
  },
  {
   "cell_type": "code",
   "execution_count": null,
   "id": "4ccebce5",
   "metadata": {},
   "outputs": [],
   "source": []
  },
  {
   "cell_type": "code",
   "execution_count": null,
   "id": "248bc7a2",
   "metadata": {},
   "outputs": [],
   "source": []
  },
  {
   "cell_type": "code",
   "execution_count": 13,
   "id": "c72dd410",
   "metadata": {},
   "outputs": [
    {
     "name": "stdout",
     "output_type": "stream",
     "text": [
      "The mean scores of the students are the same.\n"
     ]
    }
   ],
   "source": [
    "import numpy as np\n",
    "from scipy.stats import f_oneway\n",
    "\n",
    "data = np.array([\n",
    "    [85, 90, 92],\n",
    "    [70, 80, 85],\n",
    "    [90, 85, 88],\n",
    "    [75, 70, 75],\n",
    "    [95, 92, 96]\n",
    "])\n",
    "\n",
    "statistic, pvalue = f_oneway(data,data)\n",
    "\n",
    "if pvalue.any() < 0.05:\n",
    "  print(\"The mean scores of the students are not the same.\")\n",
    "else:\n",
    "  print(\"The mean scores of the students are the same.\")"
   ]
  },
  {
   "cell_type": "code",
   "execution_count": null,
   "id": "4bf37b44",
   "metadata": {},
   "outputs": [],
   "source": []
  },
  {
   "cell_type": "code",
   "execution_count": null,
   "id": "58189dfe",
   "metadata": {},
   "outputs": [],
   "source": []
  },
  {
   "cell_type": "code",
   "execution_count": null,
   "id": "ac0a3d61",
   "metadata": {},
   "outputs": [],
   "source": []
  },
  {
   "cell_type": "code",
   "execution_count": null,
   "id": "04a3de63",
   "metadata": {},
   "outputs": [],
   "source": [
    " "
   ]
  },
  {
   "cell_type": "code",
   "execution_count": null,
   "id": "758db4e2",
   "metadata": {},
   "outputs": [],
   "source": []
  },
  {
   "cell_type": "code",
   "execution_count": null,
   "id": "d45d010a",
   "metadata": {},
   "outputs": [],
   "source": []
  },
  {
   "cell_type": "code",
   "execution_count": null,
   "id": "ce195e3c",
   "metadata": {},
   "outputs": [],
   "source": []
  },
  {
   "cell_type": "code",
   "execution_count": null,
   "id": "dcbd92c0",
   "metadata": {},
   "outputs": [],
   "source": []
  },
  {
   "cell_type": "code",
   "execution_count": null,
   "id": "e9bdb55a",
   "metadata": {},
   "outputs": [],
   "source": []
  }
 ],
 "metadata": {
  "kernelspec": {
   "display_name": "Python 3 (ipykernel)",
   "language": "python",
   "name": "python3"
  },
  "language_info": {
   "codemirror_mode": {
    "name": "ipython",
    "version": 3
   },
   "file_extension": ".py",
   "mimetype": "text/x-python",
   "name": "python",
   "nbconvert_exporter": "python",
   "pygments_lexer": "ipython3",
   "version": "3.10.9"
  }
 },
 "nbformat": 4,
 "nbformat_minor": 5
}
