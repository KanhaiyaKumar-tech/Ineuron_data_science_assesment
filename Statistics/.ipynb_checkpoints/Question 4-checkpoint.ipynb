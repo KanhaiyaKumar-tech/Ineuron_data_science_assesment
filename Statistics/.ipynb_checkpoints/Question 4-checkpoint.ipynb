{
 "cells": [
  {
   "cell_type": "markdown",
   "id": "0773da6b",
   "metadata": {},
   "source": [
    "## Question 4"
   ]
  },
  {
   "cell_type": "code",
   "execution_count": null,
   "id": "df2b76e4",
   "metadata": {},
   "outputs": [],
   "source": []
  },
  {
   "cell_type": "code",
   "execution_count": null,
   "id": "0a7b1a0f",
   "metadata": {},
   "outputs": [],
   "source": [
    "The probability that the number on the slip of paper is a perfect square is 0.2. This is because there are four perfect squares between 1 and 20 (1, 4, 9, and 16), and there are a total of 20 numbers between 1 and 20.\n",
    "\n",
    "The following code calculates the probability of drawing a perfect square from a hat containing 20 numbers between 1 and 20:"
   ]
  },
  {
   "cell_type": "code",
   "execution_count": null,
   "id": "025c57e3",
   "metadata": {},
   "outputs": [],
   "source": []
  },
  {
   "cell_type": "code",
   "execution_count": 1,
   "id": "52a43f1a",
   "metadata": {},
   "outputs": [
    {
     "name": "stdout",
     "output_type": "stream",
     "text": [
      "The probability of drawing a perfect square is 0.2\n"
     ]
    }
   ],
   "source": [
    "def probability_of_perfect_square(number_of_friends):\n",
    "  \"\"\"\n",
    "  Calculates the probability that a number drawn from a hat containing numbers\n",
    "  between 1 and 20 is a perfect square.\n",
    " \n",
    "  \"\"\"\n",
    "\n",
    "  perfect_squares = [1, 4, 9, 16]\n",
    "  number_of_perfect_squares = len(perfect_squares)\n",
    "  probability = number_of_perfect_squares / number_of_friends\n",
    "  return probability\n",
    "\n",
    "if __name__ == \"__main__\":\n",
    "  probability = probability_of_perfect_square(20)\n",
    "  print(\"The probability of drawing a perfect square is\", probability)"
   ]
  },
  {
   "cell_type": "code",
   "execution_count": null,
   "id": "b93b096d",
   "metadata": {},
   "outputs": [],
   "source": []
  },
  {
   "cell_type": "code",
   "execution_count": null,
   "id": "a3a42142",
   "metadata": {},
   "outputs": [],
   "source": []
  },
  {
   "cell_type": "code",
   "execution_count": null,
   "id": "c4799aac",
   "metadata": {},
   "outputs": [],
   "source": []
  },
  {
   "cell_type": "code",
   "execution_count": null,
   "id": "ccd9d599",
   "metadata": {},
   "outputs": [],
   "source": []
  }
 ],
 "metadata": {
  "kernelspec": {
   "display_name": "Python 3 (ipykernel)",
   "language": "python",
   "name": "python3"
  },
  "language_info": {
   "codemirror_mode": {
    "name": "ipython",
    "version": 3
   },
   "file_extension": ".py",
   "mimetype": "text/x-python",
   "name": "python",
   "nbconvert_exporter": "python",
   "pygments_lexer": "ipython3",
   "version": "3.10.9"
  }
 },
 "nbformat": 4,
 "nbformat_minor": 5
}
