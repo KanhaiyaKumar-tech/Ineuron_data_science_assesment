{
 "cells": [
  {
   "cell_type": "code",
   "execution_count": null,
   "id": "574212de",
   "metadata": {},
   "outputs": [],
   "source": []
  },
  {
   "cell_type": "markdown",
   "id": "3af40c9e",
   "metadata": {},
   "source": [
    "## Question 5"
   ]
  },
  {
   "cell_type": "code",
   "execution_count": null,
   "id": "3b64aff9",
   "metadata": {},
   "outputs": [],
   "source": []
  },
  {
   "cell_type": "code",
   "execution_count": null,
   "id": "40c4187a",
   "metadata": {},
   "outputs": [],
   "source": [
    "The probability that a randomly selected taxi is late is 0.05. This is because 5% of the taxis in the city are late.\n",
    "\n",
    "The probability that a late taxi belongs to Company A is 0.666. This is calculated as follows:\n",
    "\n",
    "probability_late_company_a = (0.05 * 0.8) / (0.05 * 0.8 + 0.1 * 0.2)\n",
    "The numerator of the fraction represents the number of late taxis that belong to Company A, and the denominator represents the total number of late taxis.\n",
    "\n",
    "The probability that a late taxi belongs to Company A is 66.6%.\n",
    "\n",
    "Here is the code that calculates the probability:"
   ]
  },
  {
   "cell_type": "code",
   "execution_count": null,
   "id": "ea49d438",
   "metadata": {},
   "outputs": [],
   "source": []
  },
  {
   "cell_type": "code",
   "execution_count": 1,
   "id": "2c03b8eb",
   "metadata": {},
   "outputs": [
    {
     "name": "stdout",
     "output_type": "stream",
     "text": [
      "The probability that a randomly selected late taxi belongs to Company A is 0.6666666666666666\n"
     ]
    }
   ],
   "source": [
    "def probability_late_taxi_company_a(company_a_taxis, company_b_taxis):\n",
    "  \"\"\"\n",
    "  Calculates the probability that a randomly selected late taxi belongs to Company A.\n",
    " \n",
    "  \"\"\"\n",
    "\n",
    "  probability_late_company_a = 0.05 * company_a_taxis / (0.05 * company_a_taxis + 0.1 * company_b_taxis)\n",
    "  return probability_late_company_a\n",
    "\n",
    "if __name__ == \"__main__\":\n",
    "  company_a_taxis = 80\n",
    "  company_b_taxis = 20\n",
    "  probability = probability_late_taxi_company_a(company_a_taxis, company_b_taxis)\n",
    "  print(\"The probability that a randomly selected late taxi belongs to Company A is\", probability)"
   ]
  },
  {
   "cell_type": "code",
   "execution_count": null,
   "id": "8547e35c",
   "metadata": {},
   "outputs": [],
   "source": []
  },
  {
   "cell_type": "code",
   "execution_count": null,
   "id": "13ee148d",
   "metadata": {},
   "outputs": [],
   "source": []
  },
  {
   "cell_type": "code",
   "execution_count": null,
   "id": "7f5191fa",
   "metadata": {},
   "outputs": [],
   "source": []
  },
  {
   "cell_type": "code",
   "execution_count": null,
   "id": "e40ac1be",
   "metadata": {},
   "outputs": [],
   "source": []
  },
  {
   "cell_type": "code",
   "execution_count": null,
   "id": "0562740b",
   "metadata": {},
   "outputs": [],
   "source": []
  },
  {
   "cell_type": "code",
   "execution_count": null,
   "id": "eac8b400",
   "metadata": {},
   "outputs": [],
   "source": []
  },
  {
   "cell_type": "code",
   "execution_count": null,
   "id": "44717786",
   "metadata": {},
   "outputs": [],
   "source": []
  }
 ],
 "metadata": {
  "kernelspec": {
   "display_name": "Python 3 (ipykernel)",
   "language": "python",
   "name": "python3"
  },
  "language_info": {
   "codemirror_mode": {
    "name": "ipython",
    "version": 3
   },
   "file_extension": ".py",
   "mimetype": "text/x-python",
   "name": "python",
   "nbconvert_exporter": "python",
   "pygments_lexer": "ipython3",
   "version": "3.10.9"
  }
 },
 "nbformat": 4,
 "nbformat_minor": 5
}
