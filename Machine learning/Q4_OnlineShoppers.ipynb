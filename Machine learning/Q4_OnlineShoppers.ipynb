{
 "cells": [
  {
   "cell_type": "code",
   "execution_count": null,
   "id": "c9d764cf",
   "metadata": {},
   "outputs": [],
   "source": []
  },
  {
   "cell_type": "code",
   "execution_count": 1,
   "id": "c298193c",
   "metadata": {},
   "outputs": [
    {
     "name": "stdout",
     "output_type": "stream",
     "text": [
      "Revenue Accuracy: 0.8147\n",
      "Weekend Accuracy: 0.7279\n",
      "Informational Duration Error: 7.1663\n"
     ]
    }
   ],
   "source": [
    "import pandas as pd\n",
    "from sklearn.model_selection import train_test_split\n",
    "from sklearn.ensemble import RandomForestClassifier, RandomForestRegressor\n",
    "from sklearn.metrics import accuracy_score, mean_squared_error\n",
    "\n",
    "# Step 1: Load the dataset and select relevant columns\n",
    "df = pd.read_csv('online_shoppers_intention.csv')\n",
    "selected_columns = ['Administrative', 'Informational', 'ProductRelated', 'Weekend', 'Informational_Duration', 'Revenue']\n",
    "df = df[selected_columns]\n",
    "\n",
    "# Step 2: Feature Engineering (if required)\n",
    "\n",
    "# Step 3: Data Split\n",
    "X = df.drop(['Revenue', 'Weekend'], axis=1)\n",
    "y_revenue = df['Revenue']\n",
    "y_weekend = df['Weekend']\n",
    "y_info_duration = df['Informational_Duration']\n",
    "\n",
    "X_train, X_test, y_revenue_train, y_revenue_test, y_weekend_train, y_weekend_test, y_info_duration_train, y_info_duration_test = \\\n",
    "    train_test_split(X, y_revenue, y_weekend, y_info_duration, test_size=0.2, random_state=42)\n",
    "\n",
    "# Step 4: Ensemble Learning Algorithm\n",
    "revenue_model = RandomForestClassifier()\n",
    "weekend_model = RandomForestClassifier()\n",
    "info_duration_model = RandomForestRegressor()\n",
    "\n",
    "# Step 5: Model Training\n",
    "revenue_model.fit(X_train, y_revenue_train)\n",
    "weekend_model.fit(X_train, y_weekend_train)\n",
    "info_duration_model.fit(X_train, y_info_duration_train)\n",
    "\n",
    "# Step 6: Predictions\n",
    "revenue_predictions = revenue_model.predict(X_test)\n",
    "weekend_predictions = weekend_model.predict(X_test)\n",
    "info_duration_predictions = info_duration_model.predict(X_test)\n",
    "\n",
    "# Evaluation (if necessary)\n",
    "revenue_accuracy = accuracy_score(y_revenue_test, revenue_predictions)\n",
    "weekend_accuracy = accuracy_score(y_weekend_test, weekend_predictions)\n",
    "info_duration_error = mean_squared_error(y_info_duration_test, info_duration_predictions)\n",
    "\n",
    "print(f\"Revenue Accuracy: {revenue_accuracy:.4f}\")\n",
    "print(f\"Weekend Accuracy: {weekend_accuracy:.4f}\")\n",
    "print(f\"Informational Duration Error: {info_duration_error:.4f}\")\n"
   ]
  },
  {
   "cell_type": "code",
   "execution_count": null,
   "id": "a5d21a27",
   "metadata": {},
   "outputs": [],
   "source": []
  }
 ],
 "metadata": {
  "kernelspec": {
   "display_name": "Python 3 (ipykernel)",
   "language": "python",
   "name": "python3"
  },
  "language_info": {
   "codemirror_mode": {
    "name": "ipython",
    "version": 3
   },
   "file_extension": ".py",
   "mimetype": "text/x-python",
   "name": "python",
   "nbconvert_exporter": "python",
   "pygments_lexer": "ipython3",
   "version": "3.10.9"
  }
 },
 "nbformat": 4,
 "nbformat_minor": 5
}
