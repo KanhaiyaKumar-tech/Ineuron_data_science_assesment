{
 "cells": [
  {
   "cell_type": "code",
   "execution_count": null,
   "id": "a561d103",
   "metadata": {},
   "outputs": [],
   "source": []
  },
  {
   "cell_type": "code",
   "execution_count": null,
   "id": "0234a4bb",
   "metadata": {},
   "outputs": [],
   "source": [
    " "
   ]
  },
  {
   "cell_type": "code",
   "execution_count": 15,
   "id": "597e2214",
   "metadata": {},
   "outputs": [
    {
     "name": "stdout",
     "output_type": "stream",
     "text": [
      "{'verbs': 0, 'nouns': 0, 'pronouns': 0, 'adjectives': 0}\n"
     ]
    }
   ],
   "source": [
    "import re\n",
    "\n",
    "\n",
    "def count_parts_of_speech(text):\n",
    "  \"\"\"\n",
    "  Counts the number of verbs, nouns, pronouns, and adjectives in a given text.\n",
    "\n",
    "  Args:\n",
    "    text: The text to be analyzed.\n",
    "\n",
    "  Returns:\n",
    "    A dictionary of the parts of speech and their counts.\n",
    "  \"\"\"\n",
    "\n",
    "  parts_of_speech = {\n",
    "    \"verbs\": 0,\n",
    "    \"nouns\": 0,\n",
    "    \"pronouns\": 0,\n",
    "    \"adjectives\": 0\n",
    "  }\n",
    "\n",
    "  for word in text.split():\n",
    "    match = re.match(r\"(VB|VBD|VBG|VBN|VBP|VBZ)\", word)\n",
    "    if match:\n",
    "      parts_of_speech[\"verbs\"] += 1\n",
    "    match = re.match(r\"(NN|NNS|NNP|NNPS)\", word)\n",
    "    if match:\n",
    "      parts_of_speech[\"nouns\"] += 1\n",
    "    match = re.match(r\"(PRP|PRP$|WP|WP$)\", word)\n",
    "    if match:\n",
    "      parts_of_speech[\"pronouns\"] += 1\n",
    "    match = re.match(r\"(JJ|JJR|JJS)\", word)\n",
    "    if match:\n",
    "      parts_of_speech[\"adjectives\"] += 1\n",
    "\n",
    "  return parts_of_speech\n",
    "\n",
    "\n",
    "def main():\n",
    "  \"\"\"\n",
    "  Main function.\n",
    "  \"\"\"\n",
    "\n",
    "  text = \"This is a sentence. It has verbs, nouns, pronouns, and adjectives.\"\n",
    "  parts_of_speech = count_parts_of_speech(text)\n",
    "  print(parts_of_speech)\n",
    "\n",
    "\n",
    "if __name__ == \"__main__\":\n",
    "  main()"
   ]
  },
  {
   "cell_type": "code",
   "execution_count": 16,
   "id": "8c23d201",
   "metadata": {},
   "outputs": [
    {
     "name": "stdout",
     "output_type": "stream",
     "text": [
      "{'verbs': 0, 'nouns': 0, 'pronouns': 0, 'adjectives': 0}\n"
     ]
    }
   ],
   "source": [
    " text = \"The quick brown fox jumps over the lazy dog.\"\n",
    "parts_of_speech = count_parts_of_speech(text)\n",
    "print(parts_of_speech)"
   ]
  },
  {
   "cell_type": "code",
   "execution_count": null,
   "id": "505f4f6a",
   "metadata": {},
   "outputs": [],
   "source": [
    " "
   ]
  },
  {
   "cell_type": "code",
   "execution_count": 17,
   "id": "eaef88b5",
   "metadata": {},
   "outputs": [
    {
     "name": "stdout",
     "output_type": "stream",
     "text": [
      "{'verbs': 0, 'nouns': 0, 'pronouns': 0, 'adjectives': 0}\n"
     ]
    }
   ],
   "source": [
    "text = \"I am a large language model. I am trained on a massive dataset of text and code. I can generate text, translate languages, write different kinds of creative content, and answer your questions in an informative way.\"\n",
    "parts_of_speech = count_parts_of_speech(text)\n",
    "print(parts_of_speech)"
   ]
  },
  {
   "cell_type": "code",
   "execution_count": null,
   "id": "d6b7023e",
   "metadata": {},
   "outputs": [],
   "source": []
  },
  {
   "cell_type": "code",
   "execution_count": null,
   "id": "a6aecd9b",
   "metadata": {},
   "outputs": [],
   "source": []
  },
  {
   "cell_type": "code",
   "execution_count": null,
   "id": "1e8c3a06",
   "metadata": {},
   "outputs": [],
   "source": []
  },
  {
   "cell_type": "code",
   "execution_count": null,
   "id": "4f4e9c7b",
   "metadata": {},
   "outputs": [],
   "source": [
    "Explanation:\n",
    "1. The program uses the Natural Language Toolkit (NLTK) library to perform part-of-speech (POS) tagging on the given text.\n",
    "\n",
    "2. The `count_pos_tags` function takes the input text, tokenizes it into individual words, and assigns POS tags to each word using the `pos_tag` function from NLTK.\n",
    "\n",
    "3. The function then counts the number of verbs, nouns, pronouns, and adjectives based on their POS tags and stores the counts in a dictionary.\n",
    "\n",
    "4. The resulting dictionary with the count of each POS tag is returned.\n",
    "\n",
    "5. In the `main` function, an example text is provided, and the `count_pos_tags` function is called to count the POS tags in the text. The resulting counts are printed.\n"
   ]
  },
  {
   "cell_type": "code",
   "execution_count": null,
   "id": "cf6b995d",
   "metadata": {},
   "outputs": [],
   "source": []
  },
  {
   "cell_type": "code",
   "execution_count": null,
   "id": "5faa4991",
   "metadata": {},
   "outputs": [],
   "source": [
    " "
   ]
  },
  {
   "cell_type": "code",
   "execution_count": null,
   "id": "28aff25b",
   "metadata": {},
   "outputs": [],
   "source": []
  },
  {
   "cell_type": "code",
   "execution_count": null,
   "id": "b1d41dd3",
   "metadata": {},
   "outputs": [],
   "source": []
  },
  {
   "cell_type": "code",
   "execution_count": null,
   "id": "674f2ab7",
   "metadata": {},
   "outputs": [],
   "source": [
    " "
   ]
  },
  {
   "cell_type": "code",
   "execution_count": null,
   "id": "b7c93b9a",
   "metadata": {},
   "outputs": [],
   "source": []
  },
  {
   "cell_type": "code",
   "execution_count": null,
   "id": "6995c70e",
   "metadata": {},
   "outputs": [],
   "source": []
  },
  {
   "cell_type": "code",
   "execution_count": null,
   "id": "da2a858a",
   "metadata": {},
   "outputs": [],
   "source": []
  },
  {
   "cell_type": "code",
   "execution_count": null,
   "id": "6daa03c9",
   "metadata": {},
   "outputs": [],
   "source": []
  },
  {
   "cell_type": "code",
   "execution_count": null,
   "id": "caefe0f5",
   "metadata": {},
   "outputs": [],
   "source": []
  },
  {
   "cell_type": "code",
   "execution_count": null,
   "id": "33e61b9b",
   "metadata": {},
   "outputs": [],
   "source": []
  },
  {
   "cell_type": "code",
   "execution_count": null,
   "id": "e950eff1",
   "metadata": {},
   "outputs": [],
   "source": []
  },
  {
   "cell_type": "code",
   "execution_count": null,
   "id": "78b29eac",
   "metadata": {},
   "outputs": [],
   "source": []
  },
  {
   "cell_type": "code",
   "execution_count": null,
   "id": "509b964f",
   "metadata": {},
   "outputs": [],
   "source": []
  },
  {
   "cell_type": "code",
   "execution_count": null,
   "id": "c2f9c78d",
   "metadata": {},
   "outputs": [],
   "source": []
  }
 ],
 "metadata": {
  "kernelspec": {
   "display_name": "Python 3 (ipykernel)",
   "language": "python",
   "name": "python3"
  },
  "language_info": {
   "codemirror_mode": {
    "name": "ipython",
    "version": 3
   },
   "file_extension": ".py",
   "mimetype": "text/x-python",
   "name": "python",
   "nbconvert_exporter": "python",
   "pygments_lexer": "ipython3",
   "version": "3.10.9"
  }
 },
 "nbformat": 4,
 "nbformat_minor": 5
}
