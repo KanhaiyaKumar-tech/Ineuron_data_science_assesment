{
 "cells": [
  {
   "cell_type": "code",
   "execution_count": null,
   "id": "1c9b1db1",
   "metadata": {},
   "outputs": [],
   "source": []
  },
  {
   "cell_type": "code",
   "execution_count": null,
   "id": "0de0e6ae",
   "metadata": {},
   "outputs": [],
   "source": []
  },
  {
   "cell_type": "code",
   "execution_count": null,
   "id": "99695cc6",
   "metadata": {},
   "outputs": [],
   "source": [
    "To solve the problem, we can follow these steps:\n",
    "\n",
    "1. Count the frequency of each character in the string.\n",
    "2. Create a set to store the unique frequencies.\n",
    "3. If the set contains only one element, return \"YES\" because all characters already appear the same number of times.\n",
    "4. If the set contains more than two elements, return \"NO\" because it is not possible to make all characters appear the same number of times by removing just one character.\n",
    "5. If the set contains exactly two elements, check if one of the elements has a frequency of 1 and the other element has a frequency difference of 1. If so, return \"YES\". Otherwise, return \"NO\".\n",
    " \n",
    " "
   ]
  },
  {
   "cell_type": "code",
   "execution_count": 19,
   "id": "904e3739",
   "metadata": {},
   "outputs": [],
   "source": [
    "# Here's the implementation in Python:\n",
    "\n",
    "\n",
    "def is_valid_string(s):\n",
    "    \n",
    "    \n",
    "\n",
    "    frequencies = {}\n",
    "    for c in s:\n",
    "        if c not in frequencies:\n",
    "          frequencies[c] = 1\n",
    "        else:\n",
    "          frequencies[c] += 1\n",
    "\n",
    "    # Check if all characters have the same frequency.\n",
    "\n",
    "    if len(set(frequencies.values())) == 1:\n",
    "        return True\n",
    "\n",
    "    # Check if we can remove one character and have the remaining characters have the same frequency.\n",
    "\n",
    "    for i, c in enumerate(s):\n",
    "        new_frequencies = frequencies.copy()\n",
    "        new_frequencies[c] -= 1\n",
    "        if len(set(new_frequencies.values())) == 1:\n",
    "            return True\n",
    "\n",
    "    return False\n",
    "\n",
    " \n"
   ]
  },
  {
   "cell_type": "code",
   "execution_count": 23,
   "id": "2edf15b3",
   "metadata": {},
   "outputs": [
    {
     "name": "stdout",
     "output_type": "stream",
     "text": [
      "True\n",
      "False\n"
     ]
    }
   ],
   "source": [
    "# test cases\n",
    "s1 = \"abc\"\n",
    "print(is_valid_string(s1))  \n",
    "\n",
    "s2 = \"aabccd\"\n",
    "print(is_valid_string(s2))  "
   ]
  },
  {
   "cell_type": "code",
   "execution_count": null,
   "id": "ea88bc97",
   "metadata": {},
   "outputs": [],
   "source": [
    "Explanation:\n",
    "\n",
    "Example 1:\n",
    "The string \"abc\" has the frequencies { \"a\": 1, \"b\": 1, \"c\": 1 }. Since all characters appear the same number of times, the string is valid. Therefore, the output is \"YES\".\n",
    "\n",
    "Example 2:\n",
    "The string \"abcc\" has the frequencies { \"a\": 1, \"b\": 1, \"c\": 2 }. If we remove one occurrence of \"c\", the frequencies become { \"a\": 1, \"b\": 1, \"c\": 1 }. However, we cannot remove just one character to make all characters appear the same number of times. Therefore, the string is not valid, and the output is \"NO\".\n"
   ]
  },
  {
   "cell_type": "code",
   "execution_count": 21,
   "id": "de47f182",
   "metadata": {},
   "outputs": [
    {
     "name": "stdout",
     "output_type": "stream",
     "text": [
      "False\n"
     ]
    }
   ],
   "source": [
    " \n",
    "\n",
    "#Test case 1:\n",
    "\n",
    "s = \"aabbccd\"\n",
    "print(is_valid_string(s))   \n",
    "\n",
    "\n",
    "\n"
   ]
  },
  {
   "cell_type": "code",
   "execution_count": null,
   "id": "35c0fd29",
   "metadata": {},
   "outputs": [],
   "source": [
    "Explanation: The string \"aabbccd\" has the frequencies { \"a\": 2, \"b\": 2, \"c\": 2, \"d\": 1 }. If we remove one occurrence of \"d\", the frequencies become { \"a\": 2, \"b\": 2, \"c\": 2 }. All characters appear the same number of times, so the string is valid. Therefore, the output is \"YES\".\n"
   ]
  },
  {
   "cell_type": "code",
   "execution_count": 24,
   "id": "22fa93ed",
   "metadata": {},
   "outputs": [
    {
     "name": "stdout",
     "output_type": "stream",
     "text": [
      "False\n"
     ]
    }
   ],
   "source": [
    "# Test case 2:\n",
    "\n",
    "s = \"aabbccdde\"\n",
    "print(is_valid_string(s))  \n"
   ]
  },
  {
   "cell_type": "code",
   "execution_count": null,
   "id": "f45a66a3",
   "metadata": {},
   "outputs": [],
   "source": [
    "Explanation: The string \"aabbccdde\" has the frequencies { \"a\": 2, \"b\": 2, \"c\": 2, \"d\": 2, \"e\": 1 }. We cannot remove just one character to make all characters appear the same number of times. Therefore, the string is not valid, and the output is \"NO\"."
   ]
  },
  {
   "cell_type": "code",
   "execution_count": null,
   "id": "a4caeb6f",
   "metadata": {},
   "outputs": [],
   "source": []
  },
  {
   "cell_type": "code",
   "execution_count": null,
   "id": "97e4c365",
   "metadata": {},
   "outputs": [],
   "source": []
  },
  {
   "cell_type": "code",
   "execution_count": null,
   "id": "1362eed9",
   "metadata": {},
   "outputs": [],
   "source": []
  },
  {
   "cell_type": "code",
   "execution_count": null,
   "id": "900b56fd",
   "metadata": {},
   "outputs": [],
   "source": []
  },
  {
   "cell_type": "code",
   "execution_count": null,
   "id": "1fc6e9fb",
   "metadata": {},
   "outputs": [],
   "source": []
  }
 ],
 "metadata": {
  "kernelspec": {
   "display_name": "Python 3 (ipykernel)",
   "language": "python",
   "name": "python3"
  },
  "language_info": {
   "codemirror_mode": {
    "name": "ipython",
    "version": 3
   },
   "file_extension": ".py",
   "mimetype": "text/x-python",
   "name": "python",
   "nbconvert_exporter": "python",
   "pygments_lexer": "ipython3",
   "version": "3.10.9"
  }
 },
 "nbformat": 4,
 "nbformat_minor": 5
}
