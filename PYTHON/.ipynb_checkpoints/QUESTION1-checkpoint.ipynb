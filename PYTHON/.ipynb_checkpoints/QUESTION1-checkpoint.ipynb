{
 "cells": [
  {
   "cell_type": "code",
   "execution_count": null,
   "id": "7a23a139",
   "metadata": {},
   "outputs": [],
   "source": []
  },
  {
   "cell_type": "code",
   "execution_count": null,
   "id": "630ae02d",
   "metadata": {},
   "outputs": [],
   "source": []
  },
  {
   "cell_type": "code",
   "execution_count": null,
   "id": "83aa406a",
   "metadata": {},
   "outputs": [],
   "source": [
    "To solve the problem, we can follow these steps:\n",
    "\n",
    "1. Split the input string into individual words.\n",
    "2. Create a dictionary to store the frequency of each word.\n",
    "3. Iterate through the words and update their frequencies in the dictionary.\n",
    "4. Find the word with the highest frequency.\n",
    "5. Return the length of the highest-frequency word.\n",
    "\n",
    "Here's' the implementation in Python:\n"
   ]
  },
  {
   "cell_type": "code",
   "execution_count": 1,
   "id": "96256b24",
   "metadata": {},
   "outputs": [
    {
     "name": "stdout",
     "output_type": "stream",
     "text": [
      "5\n"
     ]
    }
   ],
   "source": [
    "\n",
    "def find_highest_frequency_word_length(string):\n",
    "    words = string.split()\n",
    "\n",
    "    frequency = {}\n",
    "    max_frequency = 0\n",
    "\n",
    "    for word in words:\n",
    "        if word in frequency:\n",
    "            frequency[word] += 1\n",
    "        else:\n",
    "            frequency[word] = 1\n",
    "\n",
    "        if frequency[word] > max_frequency:\n",
    "            max_frequency = frequency[word]\n",
    "\n",
    "    highest_frequency_word = \"\"\n",
    "    for word, freq in frequency.items():\n",
    "        if freq == max_frequency:\n",
    "            if len(word) > len(highest_frequency_word):\n",
    "                highest_frequency_word = word\n",
    "\n",
    "    return len(highest_frequency_word)\n",
    "\n",
    "# Example test case\n",
    "string = \"write write write all the number from from from 1 to 100\"\n",
    "result = find_highest_frequency_word_length(string)\n",
    "print(result)\n"
   ]
  },
  {
   "cell_type": "code",
   "execution_count": null,
   "id": "85b9e19b",
   "metadata": {},
   "outputs": [],
   "source": [
    "Explanation: In the given string, the words \"write\" and \"from\" both have the highest frequency, which is 3. However, the word \"write\" has a length of 5, which is greater than the length of the word \"from\" (4). Therefore, the length of the highest-frequency word is 5.\n"
   ]
  },
  {
   "cell_type": "code",
   "execution_count": null,
   "id": "413f8eff",
   "metadata": {},
   "outputs": [],
   "source": []
  },
  {
   "cell_type": "code",
   "execution_count": 2,
   "id": "ebdead72",
   "metadata": {},
   "outputs": [
    {
     "name": "stdout",
     "output_type": "stream",
     "text": [
      "6\n"
     ]
    }
   ],
   "source": [
    "\n",
    "# Additional test cases:\n",
    "\n",
    "# Test case 1: \n",
    "    \n",
    "string = \"apple apple banana orange banana orange orange\"\n",
    "result = find_highest_frequency_word_length(string)\n",
    "print(result)\n",
    "\n",
    "\n",
    "# Output:\n"
   ]
  },
  {
   "cell_type": "code",
   "execution_count": null,
   "id": "103b4f36",
   "metadata": {},
   "outputs": [],
   "source": [
    "Explanation: In this test case, the word \"orange\" has the highest frequency of 3, and its length is 6.\n",
    "\n",
    "    "
   ]
  },
  {
   "cell_type": "code",
   "execution_count": null,
   "id": "1aea2ac0",
   "metadata": {},
   "outputs": [],
   "source": [
    "\n"
   ]
  },
  {
   "cell_type": "code",
   "execution_count": 3,
   "id": "50e30289",
   "metadata": {},
   "outputs": [
    {
     "name": "stdout",
     "output_type": "stream",
     "text": [
      "5\n"
     ]
    }
   ],
   "source": [
    "#Test case 2:\n",
    "\n",
    "string = \"one two two three three three three\"\n",
    "result = find_highest_frequency_word_length(string)\n",
    "print(result)\n",
    "\n",
    " \n"
   ]
  },
  {
   "cell_type": "code",
   "execution_count": null,
   "id": "d821e9f6",
   "metadata": {},
   "outputs": [],
   "source": [
    "Explanation: In this test case, the word \"three\" has the highest frequency of 4, and its length is 5."
   ]
  },
  {
   "cell_type": "code",
   "execution_count": null,
   "id": "64dd46da",
   "metadata": {},
   "outputs": [],
   "source": []
  },
  {
   "cell_type": "code",
   "execution_count": null,
   "id": "3e93fd1a",
   "metadata": {},
   "outputs": [],
   "source": []
  },
  {
   "cell_type": "code",
   "execution_count": null,
   "id": "ce95b95e",
   "metadata": {},
   "outputs": [],
   "source": []
  },
  {
   "cell_type": "code",
   "execution_count": null,
   "id": "d318bcbe",
   "metadata": {},
   "outputs": [],
   "source": []
  },
  {
   "cell_type": "code",
   "execution_count": null,
   "id": "98519dff",
   "metadata": {},
   "outputs": [],
   "source": []
  },
  {
   "cell_type": "code",
   "execution_count": null,
   "id": "79e0cb7e",
   "metadata": {},
   "outputs": [],
   "source": []
  },
  {
   "cell_type": "code",
   "execution_count": null,
   "id": "a603ba61",
   "metadata": {},
   "outputs": [],
   "source": []
  },
  {
   "cell_type": "code",
   "execution_count": null,
   "id": "4325178b",
   "metadata": {},
   "outputs": [],
   "source": []
  },
  {
   "cell_type": "code",
   "execution_count": null,
   "id": "e60551f1",
   "metadata": {},
   "outputs": [],
   "source": []
  },
  {
   "cell_type": "code",
   "execution_count": null,
   "id": "9c4c62d3",
   "metadata": {},
   "outputs": [],
   "source": []
  },
  {
   "cell_type": "code",
   "execution_count": null,
   "id": "54b7a27b",
   "metadata": {},
   "outputs": [],
   "source": []
  },
  {
   "cell_type": "code",
   "execution_count": null,
   "id": "69e7bb4a",
   "metadata": {},
   "outputs": [],
   "source": []
  },
  {
   "cell_type": "code",
   "execution_count": null,
   "id": "b60887c1",
   "metadata": {},
   "outputs": [],
   "source": []
  },
  {
   "cell_type": "code",
   "execution_count": null,
   "id": "c728dea6",
   "metadata": {},
   "outputs": [],
   "source": []
  },
  {
   "cell_type": "code",
   "execution_count": null,
   "id": "7d110f4e",
   "metadata": {},
   "outputs": [],
   "source": []
  },
  {
   "cell_type": "code",
   "execution_count": null,
   "id": "3dd0a64a",
   "metadata": {},
   "outputs": [],
   "source": []
  },
  {
   "cell_type": "code",
   "execution_count": null,
   "id": "8ea7a153",
   "metadata": {},
   "outputs": [],
   "source": []
  },
  {
   "cell_type": "code",
   "execution_count": null,
   "id": "f95a329f",
   "metadata": {},
   "outputs": [],
   "source": []
  }
 ],
 "metadata": {
  "kernelspec": {
   "display_name": "Python 3 (ipykernel)",
   "language": "python",
   "name": "python3"
  },
  "language_info": {
   "codemirror_mode": {
    "name": "ipython",
    "version": 3
   },
   "file_extension": ".py",
   "mimetype": "text/x-python",
   "name": "python",
   "nbconvert_exporter": "python",
   "pygments_lexer": "ipython3",
   "version": "3.10.9"
  }
 },
 "nbformat": 4,
 "nbformat_minor": 5
}
