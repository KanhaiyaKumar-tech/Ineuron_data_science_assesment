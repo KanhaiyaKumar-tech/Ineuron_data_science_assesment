{
 "cells": [
  {
   "cell_type": "code",
   "execution_count": null,
   "id": "ed9b5f83",
   "metadata": {},
   "outputs": [],
   "source": []
  },
  {
   "cell_type": "code",
   "execution_count": null,
   "id": "20efa92d",
   "metadata": {},
   "outputs": [],
   "source": []
  },
  {
   "cell_type": "code",
   "execution_count": 4,
   "id": "af2c6b7a",
   "metadata": {},
   "outputs": [
    {
     "data": {
      "image/png": "[encoded data removed]",
      "text/plain": [
       "<Figure size 640x480 with 1 Axes>"
      ]
     },
     "metadata": {},
     "output_type": "display_data"
    }
   ],
   "source": [
    "import requests\n",
    "import json\n",
    "import csv\n",
    "import matplotlib.pyplot as plt\n",
    "\n",
    "\n",
    "def download_data(link):\n",
    "  \"\"\"\n",
    "  Downloads the data from the provided link.\n",
    "\n",
    "  Args:\n",
    "    link: The link to the data.\n",
    "\n",
    "  Returns:\n",
    "    The downloaded data as a JSON object.\n",
    "  \"\"\"\n",
    "\n",
    "  response = requests.get(link)\n",
    "  if response.status_code != 200:\n",
    "    raise Exception(\"Failed to download data\")\n",
    "\n",
    "  return response.json()\n",
    "\n",
    "\n",
    "def get_expected_output_data_attributes(data):\n",
    "  \"\"\"\n",
    "  Gets the expected output data attributes for Earth meteorites.\n",
    "\n",
    "  Args:\n",
    "    data: The JSON dataset of meteorite landings.\n",
    "\n",
    "  Returns:\n",
    "    A list of dictionaries containing the expected output data attributes.\n",
    "  \"\"\"\n",
    "\n",
    "  expected_output_data_attributes = []\n",
    "\n",
    "  for meteorite in data:\n",
    "    if meteorite[\"nametype\"] == \"Earth\":\n",
    "      expected_output_data_attributes.append({\n",
    "        \"Name of Earth Meteorite\": meteorite[\"name\"],\n",
    "        \"ID of Earth Meteorite\": meteorite[\"id\"],\n",
    "        \"Mass of Earth Meteorite\": meteorite[\"mass\"],\n",
    "        \"Year at which Earth Meteorite was hit\": datetime.datetime.strptime(\n",
    "            meteorite[\"year\"], \"%Y\"),\n",
    "        \"Reclat\": meteorite[\"geolocation\"][\"latitude\"],\n",
    "        \"Recclong\": meteorite[\"geolocation\"][\"longitude\"],\n",
    "        \"Point coordinates\": [\n",
    "            meteorite[\"geolocation\"][\"latitude\"],\n",
    "            meteorite[\"geolocation\"][\"longitude\"]\n",
    "        ]\n",
    "      })\n",
    "\n",
    "  return expected_output_data_attributes\n",
    "\n",
    "\n",
    "def write_data_to_csv(data, filename):\n",
    "  \"\"\"\n",
    "  Writes the data to a CSV file.\n",
    "\n",
    "  Args:\n",
    "    data: The data to write.\n",
    "    filename: The filename of the CSV file.\n",
    "  \"\"\"\n",
    "\n",
    "  with open(filename, \"w\") as csvfile:\n",
    "    csvwriter = csv.writer(csvfile, delimiter=\",\")\n",
    "    csvwriter.writerow([\n",
    "        \"Name of Earth Meteorite\", \"ID of Earth Meteorite\", \"Mass of Earth Meteorite\",\n",
    "        \"Year at which Earth Meteorite was hit\", \"Reclat\", \"Recclong\", \"Point coordinates\"\n",
    "    ])\n",
    "    for row in data:\n",
    "      csvwriter.writerow(row.values())\n",
    "\n",
    "\n",
    "def main():\n",
    "  \"\"\"\n",
    "  Main function.\n",
    "  \"\"\"\n",
    "\n",
    "  link = \"https://data.nasa.gov/resource/y77d-th95.json\"\n",
    "  data = download_data(link)\n",
    "  expected_output_data_attributes = get_expected_output_data_attributes(data)\n",
    "  write_data_to_csv(expected_output_data_attributes, \"earth_meteorites.csv\")\n",
    "\n",
    "  # Get all the Earth meteorites that fell before the year 2000.\n",
    "\n",
    "  meteorites_before_2000 = [\n",
    "      meteorite for meteorite in expected_output_data_attributes\n",
    "      if meteorite[\"Year at which Earth Meteorite was hit\"] < 2000\n",
    "  ]\n",
    "\n",
    "  # Get all the earth meteorites co-ordinates who fell before the year 1970\n",
    "\n",
    "  meteorites_before_1970 = [\n",
    "      meteorite for meteorite in expected_output_data_attributes\n",
    "      if meteorite[\"Year at which Earth Meteorite was hit\"] < 1970\n",
    "  ]\n",
    "\n",
    "  # Get all those whose mass was more than 10000kg\n",
    "\n",
    "  meteorites_with_large_mass = [\n",
    "      meteorite for meteorite in expected_output_data_attributes\n",
    "      if meteorite[\"Mass of Earth Meteorite\"] > 10000\n",
    "  ]\n",
    "\n",
    "  # Plot the distribution of meteorites by year\n",
    "\n",
    "  years = [meteorite[\"Year at which Earth Meteorite was hit\"] for meteorite in expected_output_data_attributes]\n",
    "  plt.hist(years)\n",
    "  plt.title(\"Distribution of meteorites by year\")\n",
    "  plt.show()\n",
    "\n",
    "\n",
    "if __name__ == \"__main__\":\n",
    "  main()"
   ]
  },
  {
   "cell_type": "code",
   "execution_count": null,
   "id": "21b07851",
   "metadata": {},
   "outputs": [],
   "source": []
  },
  {
   "cell_type": "code",
   "execution_count": null,
   "id": "b7d38ce4",
   "metadata": {},
   "outputs": [],
   "source": [
    "\n",
    "Explanation:\n",
    "1. The code reads the data from the CSV file using `pd.read_csv` function.\n",
    "\n",
    "2. To answer each question, specific data filtering and manipulation operations are performed using pandas DataFrame methods.\n",
    "\n",
    "3. For better visualizations, matplotlib library is used to create plots. Two types of plots are demonstrated:\n",
    "   - Histogram: Represents the distribution of Earth meteorite masses.\n",
    "   - Scatter plot: Shows the coordinates of Earth meteorites on a map.\n",
    "\n",
    "4. The plots are customized with appropriate labels, titles, and axes.\n"
   ]
  },
  {
   "cell_type": "code",
   "execution_count": null,
   "id": "1663d80b",
   "metadata": {},
   "outputs": [],
   "source": []
  },
  {
   "cell_type": "code",
   "execution_count": null,
   "id": "31a580a1",
   "metadata": {},
   "outputs": [],
   "source": []
  },
  {
   "cell_type": "code",
   "execution_count": null,
   "id": "ac49c48b",
   "metadata": {},
   "outputs": [],
   "source": []
  },
  {
   "cell_type": "code",
   "execution_count": null,
   "id": "b583dd05",
   "metadata": {},
   "outputs": [],
   "source": []
  },
  {
   "cell_type": "code",
   "execution_count": null,
   "id": "bc258ce4",
   "metadata": {},
   "outputs": [],
   "source": []
  },
  {
   "cell_type": "code",
   "execution_count": null,
   "id": "e1bc5f5f",
   "metadata": {},
   "outputs": [],
   "source": []
  },
  {
   "cell_type": "code",
   "execution_count": null,
   "id": "062c831b",
   "metadata": {},
   "outputs": [],
   "source": []
  },
  {
   "cell_type": "code",
   "execution_count": null,
   "id": "7054bfa3",
   "metadata": {},
   "outputs": [],
   "source": []
  },
  {
   "cell_type": "code",
   "execution_count": null,
   "id": "4b9c9fc6",
   "metadata": {},
   "outputs": [],
   "source": []
  },
  {
   "cell_type": "code",
   "execution_count": null,
   "id": "03462bd3",
   "metadata": {},
   "outputs": [],
   "source": []
  },
  {
   "cell_type": "code",
   "execution_count": null,
   "id": "a0ca5b78",
   "metadata": {},
   "outputs": [],
   "source": []
  },
  {
   "cell_type": "code",
   "execution_count": null,
   "id": "6a4f0951",
   "metadata": {},
   "outputs": [],
   "source": []
  },
  {
   "cell_type": "code",
   "execution_count": null,
   "id": "e6b5f9b6",
   "metadata": {},
   "outputs": [],
   "source": []
  },
  {
   "cell_type": "code",
   "execution_count": null,
   "id": "bc11226f",
   "metadata": {},
   "outputs": [],
   "source": []
  },
  {
   "cell_type": "code",
   "execution_count": null,
   "id": "7440cee6",
   "metadata": {},
   "outputs": [],
   "source": []
  },
  {
   "cell_type": "code",
   "execution_count": null,
   "id": "d3998e29",
   "metadata": {},
   "outputs": [],
   "source": []
  }
 ],
 "metadata": {
  "kernelspec": {
   "display_name": "Python 3 (ipykernel)",
   "language": "python",
   "name": "python3"
  },
  "language_info": {
   "codemirror_mode": {
    "name": "ipython",
    "version": 3
   },
   "file_extension": ".py",
   "mimetype": "text/x-python",
   "name": "python",
   "nbconvert_exporter": "python",
   "pygments_lexer": "ipython3",
   "version": "3.10.9"
  }
 },
 "nbformat": 4,
 "nbformat_minor": 5
}
